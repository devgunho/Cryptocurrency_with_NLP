{
 "cells": [
  {
   "cell_type": "markdown",
   "metadata": {},
   "source": [
    "# News Headlines Sentiment\n",
    "\n",
    "Use the news api to pull the latest news articles for bitcoin and ethereum and create a DataFrame of sentiment scores for each coin. \n",
    "\n",
    "Use descriptive statistics to answer the following questions:\n",
    "1. Which coin had the highest mean positive score?\n",
    "2. Which coin had the highest negative score?\n",
    "3. Which coin had the highest positive score?"
   ]
  },
  {
   "cell_type": "code",
   "execution_count": null,
   "metadata": {
    "ExecuteTime": {
     "end_time": "2021-03-12T07:22:19.741614Z",
     "start_time": "2021-03-12T07:22:19.707646Z"
    }
   },
   "outputs": [],
   "source": [
    "# Initial imports\n",
    "import os\n",
    "import pandas as pd\n",
    "from dotenv import load_dotenv\n",
    "from nltk.sentiment.vader import SentimentIntensityAnalyzer\n",
    "import nltk\n",
    "nltk.downloader.download('vader_lexicon')\n",
    "analyzer = SentimentIntensityAnalyzer()\n",
    "\n",
    "%matplotlib inline"
   ]
  },
  {
   "cell_type": "code",
   "execution_count": null,
   "metadata": {
    "ExecuteTime": {
     "end_time": "2021-03-12T07:23:47.956480Z",
     "start_time": "2021-03-12T07:23:47.944509Z"
    }
   },
   "outputs": [],
   "source": [
    "# Read your api key environment variable\n",
    "load_dotenv()\n",
    "api_key = os.getenv('NEWS_API')"
   ]
  },
  {
   "cell_type": "code",
   "execution_count": null,
   "metadata": {
    "ExecuteTime": {
     "end_time": "2021-03-12T07:42:50.637667Z",
     "start_time": "2021-03-12T07:42:50.632675Z"
    }
   },
   "outputs": [],
   "source": [
    "# Create a newsapi client\n",
    "from newsapi.newsapi_client import NewsApiClient\n",
    "newsapi = NewsApiClient(api_key=api_key)"
   ]
  },
  {
   "cell_type": "code",
   "execution_count": null,
   "metadata": {
    "ExecuteTime": {
     "end_time": "2021-03-12T07:44:15.952347Z",
     "start_time": "2021-03-12T07:44:15.839327Z"
    }
   },
   "outputs": [],
   "source": [
    "# Fetch the Bitcoin news articles\n",
    "newsapi.get_everything(q=\"hurricane OR tornado\", sort_by=\"relevancy\", language=\"en\")\n",
    "\n",
    "# Print total articles\n",
    "print(f\"Total articles about Bitcoin: {bitcoin_headlines['totalResults']}\")"
   ]
  },
  {
   "cell_type": "code",
   "execution_count": null,
   "metadata": {
    "ExecuteTime": {
     "end_time": "2021-03-12T07:42:33.449698Z",
     "start_time": "2021-03-12T07:42:33.433700Z"
    }
   },
   "outputs": [],
   "source": [
    "# Fetch the Ethereum news articles\n",
    "api.get_everything(\"hurricane OR tornado\", sort_by=\"relevancy\", language=\"en\")\n",
    "\n",
    "# Print total articles\n",
    "print(f\"Total articles about Ethereum: {ethereum_headlines['totalResults']}\")"
   ]
  },
  {
   "cell_type": "code",
   "execution_count": null,
   "metadata": {
    "ExecuteTime": {
     "end_time": "2021-03-12T07:13:20.220846Z",
     "start_time": "2021-03-12T07:13:20.195858Z"
    }
   },
   "outputs": [],
   "source": [
    "# Create the Bitcoin sentiment scores DataFrame\n",
    "bitcoin_sentiments = []\n",
    "\n",
    "for article in bitcoin_headlines[\"articles\"]:\n",
    "    try:\n",
    "        text = article[\"content\"]\n",
    "        date = article[\"publishedAt\"][:10]\n",
    "        sentiment = analyzer.polarity_scores(text)\n",
    "        compound = sentiment[\"compound\"]\n",
    "        pos = sentiment[\"pos\"]\n",
    "        neu = sentiment[\"neu\"]\n",
    "        neg = sentiment[\"neg\"]\n",
    "        \n",
    "        bitcoin_sentiments.append({\n",
    "            \"text\": text,\n",
    "            \"date\": date,\n",
    "            \"compound\": compound,\n",
    "            \"positive\": pos,\n",
    "            \"negative\": neg,\n",
    "            \"neutral\": neu\n",
    "            \n",
    "        })\n",
    "        \n",
    "    except AttributeError:\n",
    "        pass\n",
    "    \n",
    "# Create DataFrame\n",
    "bitcoin_df = pd.DataFrame(bitcoin_sentiments)\n",
    "    \n",
    "# Reorder DataFrame columns\n",
    "cols = [\"compound\", \"negative\", \"neutral\", \"positive\", \"text\", \"date\"]\n",
    "bitcoin_df = bitcoin_df[cols]\n",
    "    \n",
    "# Drop \"Date\" column\n",
    "bitcoin_df = bitcoin_df.drop(columns=['date'])\n",
    "bitcoin_df.head()"
   ]
  },
  {
   "cell_type": "code",
   "execution_count": null,
   "metadata": {
    "ExecuteTime": {
     "end_time": "2021-03-12T07:13:21.041507Z",
     "start_time": "2021-03-12T07:13:21.016567Z"
    }
   },
   "outputs": [],
   "source": [
    "# Create the ethereum sentiment scores DataFrame\n",
    "ethereum_sentiments = []\n",
    "\n",
    "for article in ethereum_headlines[\"articles\"]:\n",
    "    try:\n",
    "        text = article[\"content\"]\n",
    "        date = article[\"publishedAt\"][:10]\n",
    "        sentiment = analyzer.polarity_scores(text)\n",
    "        compound = sentiment[\"compound\"]\n",
    "        pos = sentiment[\"pos\"]\n",
    "        neu = sentiment[\"neu\"]\n",
    "        neg = sentiment[\"neg\"]\n",
    "        \n",
    "        ethereum_sentiments.append({\n",
    "            \"text\": text,\n",
    "            \"date\": date,\n",
    "            \"compound\": compound,\n",
    "            \"positive\": pos,\n",
    "            \"negative\": neg,\n",
    "            \"neutral\": neu\n",
    "            \n",
    "        })\n",
    "        \n",
    "    except AttributeError:\n",
    "        pass\n",
    "    \n",
    "# Create DataFrame\n",
    "ethereum_df = pd.DataFrame(ethereum_sentiments)\n",
    "    \n",
    "# Reorder DataFrame columns\n",
    "cols = [\"compound\", \"negative\", \"neutral\", \"positive\", \"text\", \"date\"]\n",
    "ethereum_df = ethereum_df[cols]\n",
    "    \n",
    "# Drop \"Date\" column\n",
    "ethereum_df = ethereum_df.drop(columns=['date'])\n",
    "ethereum_df.head()"
   ]
  },
  {
   "cell_type": "code",
   "execution_count": null,
   "metadata": {
    "ExecuteTime": {
     "end_time": "2021-03-12T07:13:21.867110Z",
     "start_time": "2021-03-12T07:13:21.858106Z"
    }
   },
   "outputs": [],
   "source": [
    "# Describe the Bitcoin Sentiment\n",
    "bitcoin_df.describe()"
   ]
  },
  {
   "cell_type": "code",
   "execution_count": null,
   "metadata": {
    "ExecuteTime": {
     "end_time": "2021-03-12T07:13:22.518809Z",
     "start_time": "2021-03-12T07:13:22.501825Z"
    }
   },
   "outputs": [],
   "source": [
    "# Describe the Ethereum Sentiment\n",
    "ethereum_df.describe()"
   ]
  },
  {
   "cell_type": "markdown",
   "metadata": {},
   "source": [
    "### Questions:\n",
    "\n",
    "Q: Which coin had the highest mean positive score?\n",
    "\n",
    "A: Ethereum had the highest mean positive score with a mean of .082, compared to bitcoin's mean positive score of .055.\n",
    "\n",
    "Q: Which coin had the highest compound score?\n",
    "\n",
    "A: Ethereum had the highest compound score with a max of .883, compared to bitcoin's max compound score of .878.\n",
    "\n",
    "Q. Which coin had the highest positive score?\n",
    "\n",
    "A: Ethereum had the highest positive score with a max of .347, compared to bitcoin's max positive score of .318."
   ]
  },
  {
   "cell_type": "markdown",
   "metadata": {},
   "source": [
    "---"
   ]
  },
  {
   "cell_type": "markdown",
   "metadata": {},
   "source": [
    "# Tokenizer\n",
    "\n",
    "In this section, you will use NLTK and Python to tokenize the text for each coin. Be sure to:\n",
    "1. Lowercase each word\n",
    "2. Remove Punctuation\n",
    "3. Remove Stopwords"
   ]
  },
  {
   "cell_type": "code",
   "execution_count": null,
   "metadata": {
    "ExecuteTime": {
     "end_time": "2021-03-12T07:13:24.665585Z",
     "start_time": "2021-03-12T07:13:24.653613Z"
    }
   },
   "outputs": [],
   "source": [
    "from nltk.tokenize import word_tokenize, sent_tokenize\n",
    "from nltk.corpus import stopwords\n",
    "from nltk.stem import WordNetLemmatizer, PorterStemmer\n",
    "from string import punctuation\n",
    "import re\n",
    "\n",
    "lemmatizer = WordNetLemmatizer()"
   ]
  },
  {
   "cell_type": "code",
   "execution_count": null,
   "metadata": {
    "ExecuteTime": {
     "end_time": "2021-03-12T07:13:25.176432Z",
     "start_time": "2021-03-12T07:13:25.145482Z"
    }
   },
   "outputs": [],
   "source": [
    "# Expand the default stopwords list if necessary\n",
    "\n",
    "# First, print default list if stopwords:\n",
    "print(stopwords.words('english'))"
   ]
  },
  {
   "cell_type": "code",
   "execution_count": null,
   "metadata": {
    "ExecuteTime": {
     "end_time": "2021-03-12T07:13:25.550736Z",
     "start_time": "2021-03-12T07:13:25.538754Z"
    }
   },
   "outputs": [],
   "source": [
    "# Now, add-on to that default list:\n",
    "sw_addons = {'also', 'since', 'youve'}"
   ]
  },
  {
   "cell_type": "code",
   "execution_count": null,
   "metadata": {
    "ExecuteTime": {
     "end_time": "2021-03-12T07:13:26.080904Z",
     "start_time": "2021-03-12T07:13:26.066916Z"
    }
   },
   "outputs": [],
   "source": [
    "# Complete the tokenizer function\n",
    "def tokenizer(text):\n",
    "    \"\"\"Tokenizes text.\"\"\"\n",
    "    \n",
    "    # Create a list of the words\n",
    "    sw = set(stopwords.words('english'))\n",
    "    # Convert the words to lowercase\n",
    "    regex = re.compile(\"[^a-zA-Z ]\")\n",
    "    # Remove the punctuation\n",
    "    re_clean = regex.sub('', text)\n",
    "    # Remove the stop words\n",
    "    words = word_tokenize(re_clean)\n",
    "    # Lemmatize Words into root words\n",
    "    lem = [lemmatizer.lemmatize(word) for word in words]\n",
    "    tokens = [word.lower() for word in lem if word.lower() not in sw.union(sw_addons)]\n",
    "    \n",
    "    return tokens"
   ]
  },
  {
   "cell_type": "code",
   "execution_count": null,
   "metadata": {
    "ExecuteTime": {
     "end_time": "2021-03-12T07:13:26.389504Z",
     "start_time": "2021-03-12T07:13:26.369480Z"
    }
   },
   "outputs": [],
   "source": [
    "# Create a new tokens column for bitcoin\n",
    "bitcoin_df['tokens'] = bitcoin_df['text'].apply(tokenizer)\n",
    "bitcoin_df.head()"
   ]
  },
  {
   "cell_type": "code",
   "execution_count": null,
   "metadata": {
    "ExecuteTime": {
     "end_time": "2021-03-12T07:13:26.853067Z",
     "start_time": "2021-03-12T07:13:26.842094Z"
    }
   },
   "outputs": [],
   "source": [
    "# Create a new tokens column for ethereum\n",
    "ethereum_df['tokens'] = ethereum_df['text'].apply(tokenizer)\n",
    "ethereum_df.head()"
   ]
  },
  {
   "cell_type": "markdown",
   "metadata": {},
   "source": [
    "---"
   ]
  },
  {
   "cell_type": "markdown",
   "metadata": {},
   "source": [
    "# NGrams and Frequency Analysis\n",
    "\n",
    "In this section you will look at the ngrams and word frequency for each coin. \n",
    "\n",
    "1. Use NLTK to produce the n-grams for N = 2. \n",
    "2. List the top 10 words for each coin. "
   ]
  },
  {
   "cell_type": "code",
   "execution_count": null,
   "metadata": {
    "ExecuteTime": {
     "end_time": "2021-03-12T07:13:28.124741Z",
     "start_time": "2021-03-12T07:13:28.108756Z"
    }
   },
   "outputs": [],
   "source": [
    "from collections import Counter\n",
    "from nltk import ngrams"
   ]
  },
  {
   "cell_type": "code",
   "execution_count": null,
   "metadata": {
    "ExecuteTime": {
     "end_time": "2021-03-12T07:13:28.330609Z",
     "start_time": "2021-03-12T07:13:28.309618Z"
    }
   },
   "outputs": [],
   "source": [
    "# Generate the Bitcoin N-grams where N=2\n",
    "bitcoin_text = ' '.join(bitcoin_df.text)\n",
    "bitcoin_processed = tokenizer(bitcoin_text)\n",
    "bitcoin_ngrams = Counter(ngrams(bitcoin_processed, n=2))\n",
    "print(dict(bitcoin_ngrams.most_common(10)))"
   ]
  },
  {
   "cell_type": "code",
   "execution_count": null,
   "metadata": {
    "ExecuteTime": {
     "end_time": "2021-03-12T07:13:28.592838Z",
     "start_time": "2021-03-12T07:13:28.580867Z"
    }
   },
   "outputs": [],
   "source": [
    "# Generate the Ethereum N-grams where N=2\n",
    "ethereum_text = ' '.join(ethereum_df.text)\n",
    "ethereum_processed = tokenizer(ethereum_text)\n",
    "ethereum_ngrams = Counter(ngrams(ethereum_processed, n=2))\n",
    "print(dict(ethereum_ngrams.most_common(10)))"
   ]
  },
  {
   "cell_type": "code",
   "execution_count": null,
   "metadata": {
    "ExecuteTime": {
     "end_time": "2021-03-12T07:13:36.222762Z",
     "start_time": "2021-03-12T07:13:36.215798Z"
    }
   },
   "outputs": [],
   "source": [
    "# Use the token_count function to generate the top 10 words from each coin\n",
    "def token_count(tokens, N=10):\n",
    "    \"\"\"Returns the top N tokens from the frequency count\"\"\"\n",
    "    return Counter(tokens).most_common(N)"
   ]
  },
  {
   "cell_type": "code",
   "execution_count": null,
   "metadata": {
    "ExecuteTime": {
     "end_time": "2021-03-12T07:13:36.532459Z",
     "start_time": "2021-03-12T07:13:36.520459Z"
    }
   },
   "outputs": [],
   "source": [
    "# Get the top 10 words for Bitcoin\n",
    "bitcoin_top10 = token_count(bitcoin_processed)\n",
    "bitcoin_top10"
   ]
  },
  {
   "cell_type": "code",
   "execution_count": null,
   "metadata": {
    "ExecuteTime": {
     "end_time": "2021-03-12T07:13:36.814448Z",
     "start_time": "2021-03-12T07:13:36.803474Z"
    }
   },
   "outputs": [],
   "source": [
    "# Get the top 10 words for Ethereum\n",
    "ethereum_top10 = token_count(ethereum_processed)\n",
    "ethereum_top10"
   ]
  },
  {
   "cell_type": "markdown",
   "metadata": {},
   "source": [
    "# Word Clouds\n",
    "\n",
    "In this section, you will generate word clouds for each coin to summarize the news for each coin"
   ]
  },
  {
   "cell_type": "code",
   "execution_count": null,
   "metadata": {
    "ExecuteTime": {
     "end_time": "2021-03-12T07:13:37.436113Z",
     "start_time": "2021-03-12T07:13:37.423114Z"
    }
   },
   "outputs": [],
   "source": [
    "from wordcloud import WordCloud\n",
    "import matplotlib.pyplot as plt\n",
    "plt.style.use('seaborn-whitegrid')\n",
    "import matplotlib as mpl\n",
    "mpl.rcParams['figure.figsize'] = [20.0, 10.0]"
   ]
  },
  {
   "cell_type": "code",
   "execution_count": null,
   "metadata": {
    "ExecuteTime": {
     "end_time": "2021-03-12T07:13:37.721581Z",
     "start_time": "2021-03-12T07:13:37.705476Z"
    }
   },
   "outputs": [],
   "source": [
    "# Generate the Bitcoin word cloud\n",
    "wc = WordCloud().generate(bitcoin_text)\n",
    "plt.imshow(wc)"
   ]
  },
  {
   "cell_type": "code",
   "execution_count": null,
   "metadata": {
    "ExecuteTime": {
     "end_time": "2021-03-12T07:13:38.157450Z",
     "start_time": "2021-03-12T07:13:38.137476Z"
    }
   },
   "outputs": [],
   "source": [
    "# Generate the Ethereum word cloud\n",
    "wc = WordCloud().generate(ethereum_text)\n",
    "plt.imshow(wc)"
   ]
  },
  {
   "cell_type": "markdown",
   "metadata": {},
   "source": [
    "# Named Entity Recognition\n",
    "\n",
    "In this section, you will build a named entity recognition model for both coins and visualize the tags using SpaCy."
   ]
  },
  {
   "cell_type": "code",
   "execution_count": null,
   "metadata": {
    "ExecuteTime": {
     "end_time": "2021-03-12T07:13:38.822770Z",
     "start_time": "2021-03-12T07:13:38.801280Z"
    }
   },
   "outputs": [],
   "source": [
    "import spacy\n",
    "from spacy import displacy"
   ]
  },
  {
   "cell_type": "code",
   "execution_count": null,
   "metadata": {
    "ExecuteTime": {
     "end_time": "2021-03-12T07:13:39.072451Z",
     "start_time": "2021-03-12T07:13:39.053475Z"
    }
   },
   "outputs": [],
   "source": [
    "# Load the spaCy model\n",
    "nlp = spacy.load('en_core_web_sm')"
   ]
  },
  {
   "cell_type": "markdown",
   "metadata": {},
   "source": [
    "## Bitcoin NER"
   ]
  },
  {
   "cell_type": "code",
   "execution_count": null,
   "metadata": {
    "ExecuteTime": {
     "end_time": "2021-03-12T07:13:39.476438Z",
     "start_time": "2021-03-12T07:13:39.456476Z"
    }
   },
   "outputs": [],
   "source": [
    "# Concatenate all of the bitcoin text together\n",
    "bitcoin_text = ' '.join(bitcoin_df.text)\n",
    "bitcoin_text"
   ]
  },
  {
   "cell_type": "code",
   "execution_count": null,
   "metadata": {
    "ExecuteTime": {
     "end_time": "2021-03-12T07:13:39.661893Z",
     "start_time": "2021-03-12T07:13:39.649903Z"
    }
   },
   "outputs": [],
   "source": [
    "# Run the NER processor on all of the text\n",
    "bitcoin_doc = nlp(bitcoin_text)\n",
    "\n",
    "# Add a title to the document\n",
    "bitcoin_doc.user_data[\"title\"] = \"Bitcoin NER\""
   ]
  },
  {
   "cell_type": "code",
   "execution_count": null,
   "metadata": {
    "ExecuteTime": {
     "end_time": "2021-03-12T07:13:39.789448Z",
     "start_time": "2021-03-12T07:13:39.773463Z"
    }
   },
   "outputs": [],
   "source": [
    "# Render the visualization\n",
    "displacy.render(bitcoin_doc, style='ent')"
   ]
  },
  {
   "cell_type": "code",
   "execution_count": null,
   "metadata": {
    "ExecuteTime": {
     "end_time": "2021-03-12T07:13:40.284342Z",
     "start_time": "2021-03-12T07:13:40.273341Z"
    }
   },
   "outputs": [],
   "source": [
    "# List all Entities\n",
    "for ent in bitcoin_doc.ents:\n",
    "    print(ent.text + ' ' + ent.label_)"
   ]
  },
  {
   "cell_type": "markdown",
   "metadata": {},
   "source": [
    "---"
   ]
  },
  {
   "cell_type": "markdown",
   "metadata": {},
   "source": [
    "## Ethereum NER"
   ]
  },
  {
   "cell_type": "code",
   "execution_count": null,
   "metadata": {
    "ExecuteTime": {
     "end_time": "2021-03-12T07:13:42.904884Z",
     "start_time": "2021-03-12T07:13:42.888901Z"
    }
   },
   "outputs": [],
   "source": [
    "# Concatenate all of the ethereum text together\n",
    "ethereum_text = ' '.join(ethereum_df.text)\n",
    "ethereum_text"
   ]
  },
  {
   "cell_type": "code",
   "execution_count": null,
   "metadata": {
    "ExecuteTime": {
     "end_time": "2021-03-12T07:13:43.405691Z",
     "start_time": "2021-03-12T07:13:43.393705Z"
    }
   },
   "outputs": [],
   "source": [
    "# Run the NER processor on all of the text\n",
    "ethereum_doc = nlp(ethereum_text)\n",
    "\n",
    "# Add a title to the document\n",
    "ethereum_doc.user_data[\"title\"] = \"Ethereum NER\""
   ]
  },
  {
   "cell_type": "code",
   "execution_count": null,
   "metadata": {
    "ExecuteTime": {
     "end_time": "2021-03-12T07:13:43.869444Z",
     "start_time": "2021-03-12T07:13:43.846486Z"
    }
   },
   "outputs": [],
   "source": [
    "# Render the visualization\n",
    "displacy.render(ethereum_doc, style='ent')"
   ]
  },
  {
   "cell_type": "code",
   "execution_count": null,
   "metadata": {
    "ExecuteTime": {
     "end_time": "2021-03-12T07:13:44.306722Z",
     "start_time": "2021-03-12T07:13:44.288744Z"
    }
   },
   "outputs": [],
   "source": [
    "# List all Entities\n",
    "for ent in ethereum_doc.ents:\n",
    "    print(ent.text + ' ' + ent.label_)"
   ]
  },
  {
   "cell_type": "code",
   "execution_count": null,
   "metadata": {},
   "outputs": [],
   "source": []
  }
 ],
 "metadata": {
  "file_extension": ".py",
  "kernelspec": {
   "display_name": "Python 3",
   "language": "python",
   "name": "python3"
  },
  "language_info": {
   "codemirror_mode": {
    "name": "ipython",
    "version": 3
   },
   "file_extension": ".py",
   "mimetype": "text/x-python",
   "name": "python",
   "nbconvert_exporter": "python",
   "pygments_lexer": "ipython3",
   "version": "3.8.5"
  },
  "mimetype": "text/x-python",
  "name": "python",
  "npconvert_exporter": "python",
  "pygments_lexer": "ipython3",
  "version": 3
 },
 "nbformat": 4,
 "nbformat_minor": 4
}
